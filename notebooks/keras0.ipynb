{
 "cells": [
  {
   "cell_type": "code",
   "execution_count": 6,
   "metadata": {},
   "outputs": [
    {
     "name": "stdout",
     "output_type": "stream",
     "text": [
      "Epoch 1/20\n",
      "50000/50000 [==============================] - 2s 46us/step - loss: 0.1862 - acc: 0.9073\n",
      "Epoch 2/20\n",
      "50000/50000 [==============================] - 2s 36us/step - loss: 0.1192 - acc: 0.9411\n",
      "Epoch 3/20\n",
      "50000/50000 [==============================] - 2s 36us/step - loss: 0.0913 - acc: 0.9631\n",
      "Epoch 4/20\n",
      "50000/50000 [==============================] - 2s 48us/step - loss: 0.0757 - acc: 0.9711\n",
      "Epoch 5/20\n",
      "50000/50000 [==============================] - 2s 41us/step - loss: 0.0667 - acc: 0.9750\n",
      "Epoch 6/20\n",
      "50000/50000 [==============================] - 2s 36us/step - loss: 0.0612 - acc: 0.9771\n",
      "Epoch 7/20\n",
      "50000/50000 [==============================] - 2s 37us/step - loss: 0.0574 - acc: 0.9793\n",
      "Epoch 8/20\n",
      "50000/50000 [==============================] - 2s 41us/step - loss: 0.0546 - acc: 0.9802\n",
      "Epoch 9/20\n",
      "50000/50000 [==============================] - 2s 43us/step - loss: 0.0523 - acc: 0.9813\n",
      "Epoch 10/20\n",
      "50000/50000 [==============================] - 2s 37us/step - loss: 0.0505 - acc: 0.9820\n",
      "Epoch 11/20\n",
      "50000/50000 [==============================] - 2s 37us/step - loss: 0.0489 - acc: 0.9826\n",
      "Epoch 12/20\n",
      "50000/50000 [==============================] - 2s 37us/step - loss: 0.0476 - acc: 0.9831\n",
      "Epoch 13/20\n",
      "50000/50000 [==============================] - 2s 37us/step - loss: 0.0464 - acc: 0.9834\n",
      "Epoch 14/20\n",
      "50000/50000 [==============================] - 2s 37us/step - loss: 0.0453 - acc: 0.9841\n",
      "Epoch 15/20\n",
      "50000/50000 [==============================] - 2s 37us/step - loss: 0.0443 - acc: 0.9841\n",
      "Epoch 16/20\n",
      "50000/50000 [==============================] - 2s 37us/step - loss: 0.0434 - acc: 0.9846\n",
      "Epoch 17/20\n",
      "50000/50000 [==============================] - 2s 38us/step - loss: 0.0427 - acc: 0.9851\n",
      "Epoch 18/20\n",
      "50000/50000 [==============================] - 2s 37us/step - loss: 0.0418 - acc: 0.9853\n",
      "Epoch 19/20\n",
      "50000/50000 [==============================] - 2s 37us/step - loss: 0.0409 - acc: 0.9860\n",
      "Epoch 20/20\n",
      "50000/50000 [==============================] - 2s 38us/step - loss: 0.0401 - acc: 0.9863\n",
      "[[1.        ]\n",
      " [0.8566738 ]\n",
      " [0.99850404]\n",
      " [1.        ]\n",
      " [0.01653119]\n",
      " [0.04272306]]\n"
     ]
    }
   ],
   "source": [
    "#0th order NN example: binary classification\n",
    "import tensorflow\n",
    "import tensorflow.keras as keras \n",
    "from tensorflow.keras.models import Sequential \n",
    "from tensorflow.keras.layers import Input, Dense, Dropout \n",
    "from tensorflow.keras.utils import to_categorical \n",
    "\n",
    "\n",
    "from pylab import *\n",
    "\n",
    "#fixing a duplicate openmp dylib on mac???\n",
    "import os\n",
    "os.environ['KMP_DUPLICATE_LIB_OK']='True'\n",
    "\n",
    "model = Sequential() \n",
    "model.add(Dense(16, input_dim=2, activation='relu')) \n",
    "#model.add(Dropout(0.5))\n",
    "model.add(Dense(8, activation='relu'))\n",
    "#model.add(Dropout(0.5))\n",
    "model.add(Dense(1, activation='sigmoid')) \n",
    "model.compile(loss='binary_crossentropy', optimizer='sgd',metrics=['accuracy'])\n",
    "\n",
    "#primitive function : all inputs positive - 1, otherwise 0 (classification)\n",
    "def f(x1,x2): \n",
    "    if (x1**2 + x2**2)<1 or ((x1-2.0)**2 + x2**2)<1: \n",
    "        return 0 \n",
    "    return 1\n",
    "x_train = 8.*(np.random.random((50000,2)) - 0.5) \n",
    "n_train = shape(x_train)[0]\n",
    "y_train = [ f(x_train[i,0],x_train[i,1]) for i in range(n_train)]\n",
    "#print(x_train)\n",
    "#print(y_train)\n",
    "#sys.exit(0)\n",
    "model.fit(x_train,y_train, epochs=20)\n",
    "x = np.array([[3,3],[2,-1],[-1,-1],[-10,-10],[0,0],[0,0.6]]) \n",
    "y=model.predict(x) \n",
    "print(y)"
   ]
  },
  {
   "cell_type": "code",
   "execution_count": 3,
   "metadata": {
    "scrolled": true
   },
   "outputs": [
    {
     "data": {
      "image/png": "[encoded data removed]",
      "text/plain": [
       "<Figure size 432x288 with 1 Axes>"
      ]
     },
     "metadata": {
      "needs_background": "light"
     },
     "output_type": "display_data"
    }
   ],
   "source": [
    "X, Y = np.meshgrid(np.linspace(-5,5,100),np.linspace(-5,5,100))\n",
    "Z = 0. * X\n",
    "for i in range(100):\n",
    "    for j in range(100):\n",
    "        p = np.array([[X[i,j],Y[i,j]]])\n",
    "        #print(p)\n",
    "        Z[i,j] = model.predict(p) #treat xv[i,j], yv[i,j]\n",
    "\n",
    "'''\n",
    "from mpl_toolkits.mplot3d import axes3d\n",
    "fig = plt.figure()\n",
    "ax = fig.add_subplot(111, projection='3d')        \n",
    "ax.plot_wireframe(X,Y,Z)\n",
    "plt.show()\n",
    "'''\n",
    "plt.imshow(Z)\n",
    "plt.show()"
   ]
  },
  {
   "cell_type": "code",
   "execution_count": 13,
   "metadata": {},
   "outputs": [
    {
     "name": "stdout",
     "output_type": "stream",
     "text": [
      "-rw-r--r--  1 ia  staff     0B Jan 28 18:55 Z.np\r\n"
     ]
    }
   ],
   "source": [
    "ls -lh Z.np"
   ]
  },
  {
   "cell_type": "code",
   "execution_count": 14,
   "metadata": {},
   "outputs": [],
   "source": [
    "import numpy\n",
    "Z = numpy.load('Z.mat')"
   ]
  },
  {
   "cell_type": "code",
   "execution_count": 15,
   "metadata": {},
   "outputs": [
    {
     "data": {
      "image/png": "[encoded data removed]",
      "text/plain": [
       "<Figure size 432x288 with 1 Axes>"
      ]
     },
     "metadata": {
      "needs_background": "light"
     },
     "output_type": "display_data"
    }
   ],
   "source": [
    "plt.imshow(Z)\n",
    "plt.show()"
   ]
  },
  {
   "cell_type": "code",
   "execution_count": null,
   "metadata": {},
   "outputs": [],
   "source": []
  }
 ],
 "metadata": {
  "kernelspec": {
   "display_name": "Python 3",
   "language": "python",
   "name": "python3"
  },
  "language_info": {
   "codemirror_mode": {
    "name": "ipython",
    "version": 3
   },
   "file_extension": ".py",
   "mimetype": "text/x-python",
   "name": "python",
   "nbconvert_exporter": "python",
   "pygments_lexer": "ipython3",
   "version": "3.6.8"
  }
 },
 "nbformat": 4,
 "nbformat_minor": 2
}
