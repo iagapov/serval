{
 "cells": [
  {
   "cell_type": "code",
   "execution_count": 5,
   "metadata": {},
   "outputs": [
    {
     "name": "stdout",
     "output_type": "stream",
     "text": [
      "Epoch 1/20\n",
      "50000/50000 [==============================] - 4s 72us/step - loss: 0.1973 - acc: 0.9009\n",
      "Epoch 2/20\n",
      "50000/50000 [==============================] - 3s 61us/step - loss: 0.1273 - acc: 0.9323\n",
      "Epoch 3/20\n",
      "50000/50000 [==============================] - 3s 62us/step - loss: 0.0995 - acc: 0.9580\n",
      "Epoch 4/20\n",
      "50000/50000 [==============================] - 3s 62us/step - loss: 0.0826 - acc: 0.9696\n",
      "Epoch 5/20\n",
      "50000/50000 [==============================] - 3s 63us/step - loss: 0.0718 - acc: 0.9747\n",
      "Epoch 6/20\n",
      "50000/50000 [==============================] - 3s 64us/step - loss: 0.0649 - acc: 0.9774\n",
      "Epoch 7/20\n",
      "50000/50000 [==============================] - 3s 66us/step - loss: 0.0603 - acc: 0.9790\n",
      "Epoch 8/20\n",
      "50000/50000 [==============================] - 3s 63us/step - loss: 0.0570 - acc: 0.9803\n",
      "Epoch 9/20\n",
      "50000/50000 [==============================] - 3s 60us/step - loss: 0.0547 - acc: 0.9809\n",
      "Epoch 10/20\n",
      "50000/50000 [==============================] - 3s 60us/step - loss: 0.0528 - acc: 0.9816\n",
      "Epoch 11/20\n",
      "50000/50000 [==============================] - 3s 60us/step - loss: 0.0513 - acc: 0.9825\n",
      "Epoch 12/20\n",
      "50000/50000 [==============================] - 3s 60us/step - loss: 0.0499 - acc: 0.9830\n",
      "Epoch 13/20\n",
      "50000/50000 [==============================] - 3s 61us/step - loss: 0.0488 - acc: 0.9835\n",
      "Epoch 14/20\n",
      "50000/50000 [==============================] - 3s 62us/step - loss: 0.0478 - acc: 0.9840\n",
      "Epoch 15/20\n",
      "50000/50000 [==============================] - 3s 61us/step - loss: 0.0469 - acc: 0.9845\n",
      "Epoch 16/20\n",
      "50000/50000 [==============================] - 3s 61us/step - loss: 0.0462 - acc: 0.9845\n",
      "Epoch 17/20\n",
      "50000/50000 [==============================] - 3s 61us/step - loss: 0.0454 - acc: 0.9849\n",
      "Epoch 18/20\n",
      "50000/50000 [==============================] - 3s 62us/step - loss: 0.0447 - acc: 0.9855\n",
      "Epoch 19/20\n",
      "50000/50000 [==============================] - 3s 62us/step - loss: 0.0441 - acc: 0.9855\n",
      "Epoch 20/20\n",
      "50000/50000 [==============================] - 3s 62us/step - loss: 0.0434 - acc: 0.9855\n",
      "[[1.        ]\n",
      " [0.8801107 ]\n",
      " [0.9968957 ]\n",
      " [1.        ]\n",
      " [0.0170702 ]\n",
      " [0.06178291]]\n"
     ]
    }
   ],
   "source": [
    "#0th order NN example: binary classification\n",
    "import tensorflow\n",
    "import tensorflow.keras as keras \n",
    "from tensorflow.keras.models import Sequential \n",
    "from tensorflow.keras.layers import Input, Dense, Dropout \n",
    "from tensorflow.keras.utils import to_categorical \n",
    "\n",
    "\n",
    "from pylab import *\n",
    "\n",
    "#fixing a duplicate openmp dylib on mac???\n",
    "import os\n",
    "os.environ['KMP_DUPLICATE_LIB_OK']='True'\n",
    "\n",
    "model = Sequential() \n",
    "model.add(Dense(64, input_dim=2, activation='relu')) \n",
    "#model.add(Dropout(0.5))\n",
    "model.add(Dense(64, activation='relu'))\n",
    "#model.add(Dropout(0.5))\n",
    "model.add(Dense(1, activation='sigmoid')) \n",
    "model.compile(loss='binary_crossentropy', optimizer='sgd',metrics=['accuracy'])\n",
    "\n",
    "#primitive function : all inputs positive - 1, otherwise 0 (classification)\n",
    "def f(x1,x2): \n",
    "    if (x1**2 + x2**2)<1 or ((x1-2.0)**2 + x2**2)<1: \n",
    "        return 0 \n",
    "    return 1\n",
    "x_train = 8.*(np.random.random((50000,2)) - 0.5) \n",
    "n_train = shape(x_train)[0]\n",
    "y_train = [ f(x_train[i,0],x_train[i,1]) for i in range(n_train)]\n",
    "#print(x_train)\n",
    "#print(y_train)\n",
    "#sys.exit(0)\n",
    "model.fit(x_train,y_train, epochs=20)\n",
    "x = np.array([[3,3],[2,-1],[-1,-1],[-10,-10],[0,0],[0,0.6]]) \n",
    "y=model.predict(x) \n",
    "print(y)"
   ]
  },
  {
   "cell_type": "code",
   "execution_count": 13,
   "metadata": {
    "scrolled": true
   },
   "outputs": [
    {
     "data": {
      "image/png": "[encoded data removed]",
      "text/plain": [
       "<Figure size 432x288 with 1 Axes>"
      ]
     },
     "metadata": {
      "needs_background": "light"
     },
     "output_type": "display_data"
    }
   ],
   "source": [
    "X, Y = np.meshgrid(np.linspace(-5,5,100),np.linspace(-5,5,100))\n",
    "Z = 0. * X\n",
    "for i in range(100):\n",
    "    for j in range(100):\n",
    "        p = np.array([[X[i,j],Y[i,j]]])\n",
    "        #print(p)\n",
    "        Z[i,j] = model.predict(p) #treat xv[i,j], yv[i,j]\n",
    "\n",
    "'''\n",
    "from mpl_toolkits.mplot3d import axes3d\n",
    "fig = plt.figure()\n",
    "ax = fig.add_subplot(111, projection='3d')        \n",
    "ax.plot_wireframe(X,Y,Z)\n",
    "plt.show()\n",
    "'''\n",
    "plt.imshow(Z,cmap='magma_r')\n",
    "plt.show()"
   ]
  },
  {
   "cell_type": "code",
   "execution_count": 13,
   "metadata": {},
   "outputs": [
    {
     "name": "stdout",
     "output_type": "stream",
     "text": [
      "-rw-r--r--  1 ia  staff     0B Jan 28 18:55 Z.np\r\n"
     ]
    }
   ],
   "source": [
    "ls -lh Z.np"
   ]
  },
  {
   "cell_type": "code",
   "execution_count": 3,
   "metadata": {},
   "outputs": [
    {
     "ename": "FileNotFoundError",
     "evalue": "[Errno 2] No such file or directory: 'Z.mat'",
     "output_type": "error",
     "traceback": [
      "\u001b[0;31m---------------------------------------------------------------------------\u001b[0m",
      "\u001b[0;31mFileNotFoundError\u001b[0m                         Traceback (most recent call last)",
      "\u001b[0;32m<ipython-input-3-f76b932112d5>\u001b[0m in \u001b[0;36m<module>\u001b[0;34m\u001b[0m\n\u001b[1;32m      1\u001b[0m \u001b[0;32mimport\u001b[0m \u001b[0mnumpy\u001b[0m\u001b[0;34m\u001b[0m\u001b[0;34m\u001b[0m\u001b[0m\n\u001b[0;32m----> 2\u001b[0;31m \u001b[0mZ\u001b[0m \u001b[0;34m=\u001b[0m \u001b[0mnumpy\u001b[0m\u001b[0;34m.\u001b[0m\u001b[0mload\u001b[0m\u001b[0;34m(\u001b[0m\u001b[0;34m'Z.mat'\u001b[0m\u001b[0;34m)\u001b[0m\u001b[0;34m\u001b[0m\u001b[0;34m\u001b[0m\u001b[0m\n\u001b[0m",
      "\u001b[0;32m/anaconda3/lib/python3.6/site-packages/numpy/lib/npyio.py\u001b[0m in \u001b[0;36mload\u001b[0;34m(file, mmap_mode, allow_pickle, fix_imports, encoding)\u001b[0m\n\u001b[1;32m    382\u001b[0m     \u001b[0mown_fid\u001b[0m \u001b[0;34m=\u001b[0m \u001b[0;32mFalse\u001b[0m\u001b[0;34m\u001b[0m\u001b[0;34m\u001b[0m\u001b[0m\n\u001b[1;32m    383\u001b[0m     \u001b[0;32mif\u001b[0m \u001b[0misinstance\u001b[0m\u001b[0;34m(\u001b[0m\u001b[0mfile\u001b[0m\u001b[0;34m,\u001b[0m \u001b[0mbasestring\u001b[0m\u001b[0;34m)\u001b[0m\u001b[0;34m:\u001b[0m\u001b[0;34m\u001b[0m\u001b[0;34m\u001b[0m\u001b[0m\n\u001b[0;32m--> 384\u001b[0;31m         \u001b[0mfid\u001b[0m \u001b[0;34m=\u001b[0m \u001b[0mopen\u001b[0m\u001b[0;34m(\u001b[0m\u001b[0mfile\u001b[0m\u001b[0;34m,\u001b[0m \u001b[0;34m\"rb\"\u001b[0m\u001b[0;34m)\u001b[0m\u001b[0;34m\u001b[0m\u001b[0;34m\u001b[0m\u001b[0m\n\u001b[0m\u001b[1;32m    385\u001b[0m         \u001b[0mown_fid\u001b[0m \u001b[0;34m=\u001b[0m \u001b[0;32mTrue\u001b[0m\u001b[0;34m\u001b[0m\u001b[0;34m\u001b[0m\u001b[0m\n\u001b[1;32m    386\u001b[0m     \u001b[0;32melif\u001b[0m \u001b[0mis_pathlib_path\u001b[0m\u001b[0;34m(\u001b[0m\u001b[0mfile\u001b[0m\u001b[0;34m)\u001b[0m\u001b[0;34m:\u001b[0m\u001b[0;34m\u001b[0m\u001b[0;34m\u001b[0m\u001b[0m\n",
      "\u001b[0;31mFileNotFoundError\u001b[0m: [Errno 2] No such file or directory: 'Z.mat'"
     ]
    }
   ],
   "source": [
    "import numpy\n",
    "Z = numpy.load('Z.mat')"
   ]
  },
  {
   "cell_type": "code",
   "execution_count": 15,
   "metadata": {},
   "outputs": [
    {
     "data": {
      "image/png": "[encoded data removed]",
      "text/plain": [
       "<Figure size 432x288 with 1 Axes>"
      ]
     },
     "metadata": {
      "needs_background": "light"
     },
     "output_type": "display_data"
    }
   ],
   "source": [
    "plt.imshow(Z)\n",
    "plt.show()"
   ]
  },
  {
   "cell_type": "code",
   "execution_count": null,
   "metadata": {},
   "outputs": [],
   "source": []
  }
 ],
 "metadata": {
  "kernelspec": {
   "display_name": "Python 3",
   "language": "python",
   "name": "python3"
  },
  "language_info": {
   "codemirror_mode": {
    "name": "ipython",
    "version": 3
   },
   "file_extension": ".py",
   "mimetype": "text/x-python",
   "name": "python",
   "nbconvert_exporter": "python",
   "pygments_lexer": "ipython3",
   "version": "3.6.8"
  }
 },
 "nbformat": 4,
 "nbformat_minor": 2
}
