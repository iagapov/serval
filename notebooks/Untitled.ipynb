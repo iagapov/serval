{
 "cells": [
  {
   "cell_type": "code",
   "execution_count": 5,
   "metadata": {},
   "outputs": [
    {
     "name": "stdout",
     "output_type": "stream",
     "text": [
      "Epoch 1/20\n",
      "1000/1000 [==============================] - 1s 679us/step - loss: 2.4114 - acc: 0.0820\n",
      "Epoch 2/20\n",
      "1000/1000 [==============================] - 0s 37us/step - loss: 2.3536 - acc: 0.1010\n",
      "Epoch 3/20\n",
      "1000/1000 [==============================] - 0s 36us/step - loss: 2.3331 - acc: 0.0940\n",
      "Epoch 4/20\n",
      "1000/1000 [==============================] - 0s 37us/step - loss: 2.3187 - acc: 0.1120\n",
      "Epoch 5/20\n",
      "1000/1000 [==============================] - 0s 35us/step - loss: 2.3312 - acc: 0.0890\n",
      "Epoch 6/20\n",
      "1000/1000 [==============================] - 0s 35us/step - loss: 2.3274 - acc: 0.0980\n",
      "Epoch 7/20\n",
      "1000/1000 [==============================] - 0s 35us/step - loss: 2.3173 - acc: 0.0940\n",
      "Epoch 8/20\n",
      "1000/1000 [==============================] - 0s 35us/step - loss: 2.3091 - acc: 0.1120\n",
      "Epoch 9/20\n",
      "1000/1000 [==============================] - 0s 35us/step - loss: 2.3099 - acc: 0.0880\n",
      "Epoch 10/20\n",
      "1000/1000 [==============================] - 0s 36us/step - loss: 2.3088 - acc: 0.0970\n",
      "Epoch 11/20\n",
      "1000/1000 [==============================] - 0s 36us/step - loss: 2.3069 - acc: 0.0990\n",
      "Epoch 12/20\n",
      "1000/1000 [==============================] - 0s 36us/step - loss: 2.3142 - acc: 0.1030\n",
      "Epoch 13/20\n",
      "1000/1000 [==============================] - 0s 37us/step - loss: 2.2979 - acc: 0.1200\n",
      "Epoch 14/20\n",
      "1000/1000 [==============================] - 0s 35us/step - loss: 2.2985 - acc: 0.1120\n",
      "Epoch 15/20\n",
      "1000/1000 [==============================] - 0s 35us/step - loss: 2.2998 - acc: 0.1140\n",
      "Epoch 16/20\n",
      "1000/1000 [==============================] - 0s 35us/step - loss: 2.3086 - acc: 0.1180\n",
      "Epoch 17/20\n",
      "1000/1000 [==============================] - 0s 35us/step - loss: 2.2974 - acc: 0.1080\n",
      "Epoch 18/20\n",
      "1000/1000 [==============================] - 0s 35us/step - loss: 2.2969 - acc: 0.1110\n",
      "Epoch 19/20\n",
      "1000/1000 [==============================] - 0s 35us/step - loss: 2.2985 - acc: 0.1220\n",
      "Epoch 20/20\n",
      "1000/1000 [==============================] - 0s 36us/step - loss: 2.3078 - acc: 0.1050\n",
      "100/100 [==============================] - 0s 1ms/step\n"
     ]
    }
   ],
   "source": [
    "import keras\n",
    "from keras.models import Sequential\n",
    "from keras.layers import Dense, Dropout, Activation\n",
    "from keras.optimizers import SGD\n",
    "\n",
    "# Generate dummy data\n",
    "import numpy as np\n",
    "x_train = np.random.random((1000, 20))\n",
    "y_train = keras.utils.to_categorical(np.random.randint(10, size=(1000, 1)), num_classes=10)\n",
    "x_test = np.random.random((100, 20))\n",
    "y_test = keras.utils.to_categorical(np.random.randint(10, size=(100, 1)), num_classes=10)\n",
    "\n",
    "model = Sequential()\n",
    "# Dense(64) is a fully-connected layer with 64 hidden units.\n",
    "# in the first layer, you must specify the expected input data shape:\n",
    "# here, 20-dimensional vectors.\n",
    "model.add(Dense(64, activation='relu', input_dim=20))\n",
    "model.add(Dropout(0.5))\n",
    "model.add(Dense(64, activation='relu'))\n",
    "model.add(Dropout(0.5))\n",
    "model.add(Dense(10, activation='softmax'))\n",
    "\n",
    "sgd = SGD(lr=0.01, decay=1e-6, momentum=0.9, nesterov=True)\n",
    "model.compile(loss='categorical_crossentropy',\n",
    "              optimizer=sgd,\n",
    "              metrics=['accuracy'])\n",
    "\n",
    "model.fit(x_train, y_train,\n",
    "          epochs=20,\n",
    "          batch_size=128)\n",
    "score = model.evaluate(x_test, y_test, batch_size=128)"
   ]
  },
  {
   "cell_type": "code",
   "execution_count": 6,
   "metadata": {},
   "outputs": [
    {
     "data": {
      "text/plain": [
       "[2.2976725101470947, 0.10000000149011612]"
      ]
     },
     "execution_count": 6,
     "metadata": {},
     "output_type": "execute_result"
    }
   ],
   "source": [
    "score"
   ]
  },
  {
   "cell_type": "code",
   "execution_count": 7,
   "metadata": {},
   "outputs": [
    {
     "name": "stdout",
     "output_type": "stream",
     "text": [
      "Epoch 1/20\n",
      "1000/1000 [==============================] - 1s 669us/step - loss: 0.7205 - acc: 0.4880\n",
      "Epoch 2/20\n",
      "1000/1000 [==============================] - 0s 37us/step - loss: 0.7097 - acc: 0.4920\n",
      "Epoch 3/20\n",
      "1000/1000 [==============================] - 0s 36us/step - loss: 0.6938 - acc: 0.5400\n",
      "Epoch 4/20\n",
      "1000/1000 [==============================] - 0s 34us/step - loss: 0.7015 - acc: 0.5110\n",
      "Epoch 5/20\n",
      "1000/1000 [==============================] - 0s 35us/step - loss: 0.6993 - acc: 0.5260\n",
      "Epoch 6/20\n",
      "1000/1000 [==============================] - 0s 35us/step - loss: 0.6965 - acc: 0.5250\n",
      "Epoch 7/20\n",
      "1000/1000 [==============================] - 0s 35us/step - loss: 0.7015 - acc: 0.5030\n",
      "Epoch 8/20\n",
      "1000/1000 [==============================] - 0s 35us/step - loss: 0.6978 - acc: 0.5130\n",
      "Epoch 9/20\n",
      "1000/1000 [==============================] - 0s 35us/step - loss: 0.7065 - acc: 0.4930\n",
      "Epoch 10/20\n",
      "1000/1000 [==============================] - 0s 36us/step - loss: 0.6899 - acc: 0.5320\n",
      "Epoch 11/20\n",
      "1000/1000 [==============================] - 0s 34us/step - loss: 0.6864 - acc: 0.5320\n",
      "Epoch 12/20\n",
      "1000/1000 [==============================] - 0s 34us/step - loss: 0.6913 - acc: 0.5330\n",
      "Epoch 13/20\n",
      "1000/1000 [==============================] - 0s 35us/step - loss: 0.6913 - acc: 0.5240\n",
      "Epoch 14/20\n",
      "1000/1000 [==============================] - 0s 34us/step - loss: 0.6959 - acc: 0.5170\n",
      "Epoch 15/20\n",
      "1000/1000 [==============================] - 0s 34us/step - loss: 0.6923 - acc: 0.5220\n",
      "Epoch 16/20\n",
      "1000/1000 [==============================] - 0s 34us/step - loss: 0.6931 - acc: 0.5100\n",
      "Epoch 17/20\n",
      "1000/1000 [==============================] - 0s 35us/step - loss: 0.6891 - acc: 0.5350\n",
      "Epoch 18/20\n",
      "1000/1000 [==============================] - 0s 33us/step - loss: 0.6927 - acc: 0.5290\n",
      "Epoch 19/20\n",
      "1000/1000 [==============================] - 0s 35us/step - loss: 0.6904 - acc: 0.5240\n",
      "Epoch 20/20\n",
      "1000/1000 [==============================] - 0s 33us/step - loss: 0.6936 - acc: 0.4980\n",
      "100/100 [==============================] - 0s 1ms/step\n"
     ]
    }
   ],
   "source": [
    "import numpy as np\n",
    "from keras.models import Sequential\n",
    "from keras.layers import Dense, Dropout\n",
    "\n",
    "# Generate dummy data\n",
    "x_train = np.random.random((1000, 20))\n",
    "y_train = np.random.randint(2, size=(1000, 1))\n",
    "x_test = np.random.random((100, 20))\n",
    "y_test = np.random.randint(2, size=(100, 1))\n",
    "\n",
    "model = Sequential()\n",
    "model.add(Dense(64, input_dim=20, activation='relu'))\n",
    "model.add(Dropout(0.5))\n",
    "model.add(Dense(64, activation='relu'))\n",
    "model.add(Dropout(0.5))\n",
    "model.add(Dense(1, activation='sigmoid'))\n",
    "\n",
    "model.compile(loss='binary_crossentropy',\n",
    "              optimizer='rmsprop',\n",
    "              metrics=['accuracy'])\n",
    "\n",
    "model.fit(x_train, y_train,\n",
    "          epochs=20,\n",
    "          batch_size=128)\n",
    "score = model.evaluate(x_test, y_test, batch_size=128)"
   ]
  },
  {
   "cell_type": "code",
   "execution_count": 8,
   "metadata": {},
   "outputs": [
    {
     "data": {
      "text/plain": [
       "[0.7005426287651062, 0.46000000834465027]"
      ]
     },
     "execution_count": 8,
     "metadata": {},
     "output_type": "execute_result"
    }
   ],
   "source": [
    "score"
   ]
  },
  {
   "cell_type": "code",
   "execution_count": null,
   "metadata": {},
   "outputs": [],
   "source": []
  }
 ],
 "metadata": {
  "kernelspec": {
   "display_name": "Python 3",
   "language": "python",
   "name": "python3"
  },
  "language_info": {
   "codemirror_mode": {
    "name": "ipython",
    "version": 3
   },
   "file_extension": ".py",
   "mimetype": "text/x-python",
   "name": "python",
   "nbconvert_exporter": "python",
   "pygments_lexer": "ipython3",
   "version": "3.6.8"
  }
 },
 "nbformat": 4,
 "nbformat_minor": 2
}
