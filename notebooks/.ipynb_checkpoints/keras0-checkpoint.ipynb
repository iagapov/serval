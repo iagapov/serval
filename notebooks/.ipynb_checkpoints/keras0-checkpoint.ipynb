{
 "cells": [
  {
   "cell_type": "code",
   "execution_count": null,
   "metadata": {},
   "outputs": [],
   "source": [
    "import keras\n",
    "from keras.models import Sequential\n",
    "from keras.layers import Input, Dense\n",
    "model = Sequential() \n",
    "model.add(Dense(units=8, activation='relu', input_dim=2))\n",
    "model.add(Dense(units=1, activation='sigmoid'))\n",
    "model.add(Dense(units=1, activation='sigmoid'))\n",
    "model.compile(loss='mean_squared_error', optimizer='sgd',metrics=['mae','accuracy'])\n",
    "\n",
    "\n",
    "#primitive function : all inputs positive - 1, otherwise 0 (classification)\n",
    "from pylab import *\n",
    "\n",
    "def f(x1,x2):\n",
    "    if x1>0 or x2>0: return 1\n",
    "    return 0\n",
    "\n",
    "\n",
    "\n",
    "x_train = np.random.random((10,2))\n",
    "#print(x_train)\n",
    "\n",
    "y_train = np.zeros(shape(x_train[0]))\n",
    "n_train = shape(x_train)[0]\n",
    "\n",
    "for i in range(n_train):\n",
    "    y_train[i] = i\n",
    "    \n",
    "\n",
    "#print(shape(x_train)[1])\n",
    "#print(y_train)\n",
    "\n",
    "model.fit(x_train,y_train, epochs=10, batch_size=32)\n",
    "\n",
    "\n",
    "\n",
    "\n"
   ]
  }
 ],
 "metadata": {
  "kernelspec": {
   "display_name": "Python 3",
   "language": "python",
   "name": "python3"
  },
  "language_info": {
   "codemirror_mode": {
    "name": "ipython",
    "version": 3
   },
   "file_extension": ".py",
   "mimetype": "text/x-python",
   "name": "python",
   "nbconvert_exporter": "python",
   "pygments_lexer": "ipython3",
   "version": "3.6.8"
  }
 },
 "nbformat": 4,
 "nbformat_minor": 2
}
