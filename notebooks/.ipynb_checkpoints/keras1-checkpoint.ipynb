{
 "cells": [
  {
   "cell_type": "code",
   "execution_count": 12,
   "metadata": {},
   "outputs": [],
   "source": [
    "# try to learn FODO stability\n",
    "\n",
    "import os,sys\n",
    "sys.path.append('/Users/ia/workspace/ocelot')\n",
    "import ocelot\n",
    "from ocelot import *\n",
    "from pylab import *\n",
    "QF = Quadrupole(l=0.1, k1=0.1)\n",
    "QD = Quadrupole(l=0.1, k1=-0.14)\n",
    "D = Drift(l=1.0)\n",
    "fodo = (QF,D,QD,QD,D,QF)\n",
    "lat = MagneticLattice(fodo)"
   ]
  },
  {
   "cell_type": "code",
   "execution_count": null,
   "metadata": {
    "scrolled": false
   },
   "outputs": [],
   "source": [
    "#tws = twiss(lat, Twiss())\n",
    "\n",
    "#generating training set\n",
    "\n",
    "\n",
    "n_train = 10000\n",
    "\n",
    "x_train = np.zeros([n_train,3])  \n",
    "y_train = np.zeros([n_train,1])\n",
    "\n",
    "\n",
    "\n",
    "for i in range(n_train):\n",
    "    QF.k1 = np.random.rand()\n",
    "    QD.k1 = -np.random.rand()\n",
    "    D.l = 2.0 * np.random.rand()\n",
    "    \n",
    "    x_train[i,0] = QF.k1\n",
    "    x_train[i,1] = QD.k1\n",
    "    x_train[i,2] = D.l\n",
    "    lat.update_transfer_maps()\n",
    "    tws = twiss(lat, Twiss())\n",
    "    if tws is None:\n",
    "        y_train[i,0] = 0\n",
    "    else:\n",
    "        y_train[i,0] = 1\n",
    "\n",
    "\n",
    "#print(x_train)\n",
    "#print(y_train)\n"
   ]
  },
  {
   "cell_type": "code",
   "execution_count": 20,
   "metadata": {},
   "outputs": [
    {
     "data": {
      "image/png": "[encoded data removed]",
      "text/plain": [
       "<Figure size 432x288 with 1 Axes>"
      ]
     },
     "metadata": {
      "needs_background": "light"
     },
     "output_type": "display_data"
    }
   ],
   "source": [
    "x1 = []\n",
    "x2 = []\n",
    "for i in range(n_train):\n",
    "    if y_train[i] == 1:\n",
    "        x1.append(x_train[i,0])\n",
    "        x2.append(x_train[i,1])\n",
    "plt.scatter(x1,x2)\n",
    "plt.show()"
   ]
  },
  {
   "cell_type": "code",
   "execution_count": 22,
   "metadata": {},
   "outputs": [
    {
     "name": "stdout",
     "output_type": "stream",
     "text": [
      "Epoch 1/30\n",
      "10000/10000 [==============================] - 2s 198us/step - loss: 0.3160 - acc: 0.9309\n",
      "Epoch 2/30\n",
      "10000/10000 [==============================] - 1s 142us/step - loss: 0.2683 - acc: 0.9350\n",
      "Epoch 3/30\n",
      "10000/10000 [==============================] - 1s 142us/step - loss: 0.2573 - acc: 0.9350\n",
      "Epoch 4/30\n",
      "10000/10000 [==============================] - 1s 144us/step - loss: 0.2465 - acc: 0.9350\n",
      "Epoch 5/30\n",
      "10000/10000 [==============================] - 1s 146us/step - loss: 0.2374 - acc: 0.9350\n",
      "Epoch 6/30\n",
      "10000/10000 [==============================] - 1s 146us/step - loss: 0.2278 - acc: 0.9350\n",
      "Epoch 7/30\n",
      "10000/10000 [==============================] - 1s 146us/step - loss: 0.2182 - acc: 0.9350\n",
      "Epoch 8/30\n",
      "10000/10000 [==============================] - 1s 150us/step - loss: 0.2084 - acc: 0.9350\n",
      "Epoch 9/30\n",
      "10000/10000 [==============================] - 2s 152us/step - loss: 0.1982 - acc: 0.9350\n",
      "Epoch 10/30\n",
      "10000/10000 [==============================] - 2s 169us/step - loss: 0.1897 - acc: 0.9352 1s - loss\n",
      "Epoch 11/30\n",
      "10000/10000 [==============================] - 2s 164us/step - loss: 0.1837 - acc: 0.9350\n",
      "Epoch 12/30\n",
      "10000/10000 [==============================] - 2s 172us/step - loss: 0.1793 - acc: 0.9368\n",
      "Epoch 13/30\n",
      "10000/10000 [==============================] - 2s 177us/step - loss: 0.1753 - acc: 0.9367\n",
      "Epoch 14/30\n",
      "10000/10000 [==============================] - 2s 165us/step - loss: 0.1710 - acc: 0.9375\n",
      "Epoch 15/30\n",
      "10000/10000 [==============================] - 2s 157us/step - loss: 0.1664 - acc: 0.9389\n",
      "Epoch 16/30\n",
      "10000/10000 [==============================] - 2s 157us/step - loss: 0.1644 - acc: 0.9389\n",
      "Epoch 17/30\n",
      "10000/10000 [==============================] - 2s 158us/step - loss: 0.1595 - acc: 0.9396\n",
      "Epoch 18/30\n",
      "10000/10000 [==============================] - 2s 157us/step - loss: 0.1554 - acc: 0.9419\n",
      "Epoch 19/30\n",
      "10000/10000 [==============================] - 2s 157us/step - loss: 0.1513 - acc: 0.9428\n",
      "Epoch 20/30\n",
      "10000/10000 [==============================] - 2s 160us/step - loss: 0.1484 - acc: 0.9442\n",
      "Epoch 21/30\n",
      "10000/10000 [==============================] - 2s 159us/step - loss: 0.1445 - acc: 0.9469\n",
      "Epoch 22/30\n",
      "10000/10000 [==============================] - 2s 161us/step - loss: 0.1411 - acc: 0.9458\n",
      "Epoch 23/30\n",
      "10000/10000 [==============================] - 2s 162us/step - loss: 0.1362 - acc: 0.9469\n",
      "Epoch 24/30\n",
      "10000/10000 [==============================] - 2s 159us/step - loss: 0.1320 - acc: 0.9496\n",
      "Epoch 25/30\n",
      "10000/10000 [==============================] - 1s 145us/step - loss: 0.1277 - acc: 0.9513\n",
      "Epoch 26/30\n",
      "10000/10000 [==============================] - 1s 149us/step - loss: 0.1238 - acc: 0.9523\n",
      "Epoch 27/30\n",
      "10000/10000 [==============================] - 2s 150us/step - loss: 0.1202 - acc: 0.9527\n",
      "Epoch 28/30\n",
      "10000/10000 [==============================] - 2s 166us/step - loss: 0.1157 - acc: 0.9555\n",
      "Epoch 29/30\n",
      "10000/10000 [==============================] - 2s 173us/step - loss: 0.1142 - acc: 0.9546\n",
      "Epoch 30/30\n",
      "10000/10000 [==============================] - 2s 160us/step - loss: 0.1098 - acc: 0.9555\n"
     ]
    },
    {
     "data": {
      "text/plain": [
       "<keras.callbacks.History at 0x1c35ec29b0>"
      ]
     },
     "execution_count": 22,
     "metadata": {},
     "output_type": "execute_result"
    }
   ],
   "source": [
    "import keras \n",
    "from keras.models import Sequential \n",
    "from keras.layers import Input, Dense, Dropout \n",
    "from keras.utils import to_categorical \n",
    "from pylab import *\n",
    "\n",
    "#fixing a duplicate openmp dylib on mac???\n",
    "import os\n",
    "os.environ['KMP_DUPLICATE_LIB_OK']='True'\n",
    "\n",
    "model = Sequential() \n",
    "model.add(Dense(64, input_dim=3, activation='relu')) \n",
    "#model.add(Dropout(0.5))\n",
    "model.add(Dense(128, activation='relu'))\n",
    "model.add(Dropout(0.5))\n",
    "model.add(Dense(1, activation='sigmoid')) \n",
    "model.compile(loss='binary_crossentropy', optimizer='sgd',metrics=['accuracy'])\n",
    "model.fit(x_train,y_train, epochs=30, batch_size=16)"
   ]
  },
  {
   "cell_type": "code",
   "execution_count": 31,
   "metadata": {},
   "outputs": [
    {
     "data": {
      "image/png": "[encoded data removed]",
      "text/plain": [
       "<Figure size 432x288 with 1 Axes>"
      ]
     },
     "metadata": {
      "needs_background": "light"
     },
     "output_type": "display_data"
    }
   ],
   "source": [
    "X, Y = np.meshgrid(np.linspace(0,1,100),np.linspace(-1,0,100))\n",
    "Z = 0. * X\n",
    "for i in range(100):\n",
    "    for j in range(100):\n",
    "        p = np.array([[X[i,j],Y[i,j], 4.9]])\n",
    "        #print(p)\n",
    "        Z[i,j] = model.predict(p) #treat xv[i,j], yv[i,j]\n",
    "\n",
    "plt.imshow(Z[::-1,:])\n",
    "plt.show()"
   ]
  },
  {
   "cell_type": "code",
   "execution_count": null,
   "metadata": {},
   "outputs": [],
   "source": [
    "n_test = 1000\n",
    "\n",
    "x_test = np.zeros([n_test,3])  \n",
    "y_test = np.zeros([n_test,1])\n",
    "\n",
    "D.l = 4.9\n",
    "\n",
    "for i in range(n_test):\n",
    "    QF.k1 = np.random.rand()\n",
    "    QD.k1 = -np.random.rand()\n",
    "    \n",
    "    x_test[i,0] = QF.k1\n",
    "    x_test[i,1] = QD.k1\n",
    "    x_test[i,2] = D.l\n",
    "    lat.update_transfer_maps()\n",
    "    tws = twiss(lat, Twiss())\n",
    "    if tws is None:\n",
    "        y_train[i,0] = 0\n",
    "    else:\n",
    "        y_train[i,0] = 1"
   ]
  }
 ],
 "metadata": {
  "kernelspec": {
   "display_name": "Python 3",
   "language": "python",
   "name": "python3"
  },
  "language_info": {
   "codemirror_mode": {
    "name": "ipython",
    "version": 3
   },
   "file_extension": ".py",
   "mimetype": "text/x-python",
   "name": "python",
   "nbconvert_exporter": "python",
   "pygments_lexer": "ipython3",
   "version": "3.6.8"
  }
 },
 "nbformat": 4,
 "nbformat_minor": 2
}
